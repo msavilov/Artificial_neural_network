{
 "cells": [
  {
   "cell_type": "markdown",
   "id": "4cad0742",
   "metadata": {},
   "source": [
    "### Описание задания:\n",
    "Применение рекуррентных нейросетей для решения проблем автоматической морфологической разметки(Part Of Speech Tagging)"
   ]
  }
 ],
 "metadata": {
  "kernelspec": {
   "display_name": "Python 3 (ipykernel)",
   "language": "python",
   "name": "python3"
  },
  "language_info": {
   "codemirror_mode": {
    "name": "ipython",
    "version": 3
   },
   "file_extension": ".py",
   "mimetype": "text/x-python",
   "name": "python",
   "nbconvert_exporter": "python",
   "pygments_lexer": "ipython3",
   "version": "3.10.9"
  }
 },
 "nbformat": 4,
 "nbformat_minor": 5
}
